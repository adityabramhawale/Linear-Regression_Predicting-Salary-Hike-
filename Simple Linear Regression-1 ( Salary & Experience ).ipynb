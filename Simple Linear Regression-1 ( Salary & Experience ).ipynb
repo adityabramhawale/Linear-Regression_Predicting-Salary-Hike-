#!/usr/bin/env python
# coding: utf-8

# In[1]:


import pandas as pd
import numpy as np
import seaborn as sns
import statsmodels.formula.api as smf


# In[2]:


x=pd.read_csv("C:\\Users\\bramhad\\OneDrive - Konecranes Plc\\Desktop\\Data Science\\ExcelR\\Assignments\\Simple Linear Regression\\Salary_Data.csv")
x.tail()


# In[3]:


x.info()


# As there are no null values we are not replacing any of the row with mean value of the data

# In[5]:


x[x.duplicated()].shape


# As there are no rows are duplicated we can directly go for correlation check between predictor and response variable

# In[6]:


sns.distplot(x["YearsExperience"])


# In[7]:


sns.distplot(x["Salary"])


# In[8]:


x.corr()


# In[9]:


x=x.rename({'YearsExperience':'a','Salary':'b'},axis=1)
x


# In[10]:


sns.regplot(x=x['a'],y=x['b'])


# In[13]:


m=smf.ols("a~b",data=x).fit()


# In[14]:


m.params


# In[15]:


m.tvalues,m.pvalues


# As P value is much lesser than alpha (0.05) we can say there is good co-realtion between variables

# In[16]:


m.rsquared,m.rsquared_adj


# Manual calculation as per intercept and B value , let us assume salary is 70000 then as per calculation 

# In[17]:


a = (-2.383161) + (0.000101)*(70000)
a


# Passing new values of dataframe to predict values from model

# In[18]:


newx=pd.Series([40000,80000])
newx


# In[19]:


predx=pd.DataFrame(newx,columns=['b'])
predx


# In[20]:


m.predict(predx)

